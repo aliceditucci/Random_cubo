{
 "cells": [
  {
   "cell_type": "code",
   "execution_count": null,
   "id": "003d5a0d",
   "metadata": {},
   "outputs": [],
   "source": [
    "import numpy as np\n",
    "import networkx as nx\n",
    "from networkx import random_regular_graph, random_graphs\n",
    "\n",
    "import pickle"
   ]
  },
  {
   "cell_type": "code",
   "execution_count": null,
   "id": "d1d7c1c8",
   "metadata": {},
   "outputs": [],
   "source": [
    "for N in range(12, 20):\n",
    "    for r in range(100):\n",
    "        print('\\n\\n (N, r): ', (N, r))\n",
    "        instance_dir = './N_' + str(N)\n",
    "        os.makedirs(instance_dir, exist_ok=True)\n",
    "\n",
    "        G = random_regular_graph(3, N)\n",
    "        coef_list = np.random.uniform(-1, 1, len(G.edges()) + N)\n",
    "        coef_list = np.round(coef_list, 4)\n",
    "\n",
    "        nx.write_gpickle(G, instance_dir + '/QUBO_' + str(N) + 'V_3reg_'+ 'r_'+ str(r)+ '.gpickle')\n",
    "        np.savetxt(instance_dir + '/QUBO_' + str(N) + 'V_3reg_'+ 'r_'+ str(r)+ '.txt', coef_list)"
   ]
  }
 ],
 "metadata": {
  "kernelspec": {
   "display_name": "Python 3 (ipykernel)",
   "language": "python",
   "name": "python3"
  },
  "language_info": {
   "codemirror_mode": {
    "name": "ipython",
    "version": 3
   },
   "file_extension": ".py",
   "mimetype": "text/x-python",
   "name": "python",
   "nbconvert_exporter": "python",
   "pygments_lexer": "ipython3",
   "version": "3.7.13"
  }
 },
 "nbformat": 4,
 "nbformat_minor": 5
}
